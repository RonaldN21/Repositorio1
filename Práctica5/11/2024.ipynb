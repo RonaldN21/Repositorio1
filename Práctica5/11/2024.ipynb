{
  "cells": [
    {
      "cell_type": "markdown",
      "metadata": {
        "id": "view-in-github",
        "colab_type": "text"
      },
      "source": [
        "<a href=\"https://colab.research.google.com/github/RonaldN21/Repositorio1/blob/master/Pr%C3%A1ctica5/11/2024.ipynb\" target=\"_parent\"><img src=\"https://colab.research.google.com/assets/colab-badge.svg\" alt=\"Open In Colab\"/></a>"
      ]
    },
    {
      "cell_type": "markdown",
      "source": [
        "Clase 5/11/2024 prácticas con PYTHON"
      ],
      "metadata": {
        "id": "R_NZl41CldjP"
      }
    },
    {
      "cell_type": "markdown",
      "source": [
        "Uso de librería numpy"
      ],
      "metadata": {
        "id": "SRZxRv-2mJeE"
      }
    },
    {
      "cell_type": "code",
      "source": [
        "#\n",
        "import numpy as np\n",
        "matrixA =np.array([[11,12,13,14],[21,22,23,24],[31,32,33,34]])\n",
        "print(matrixA)\n",
        "print(matrixA.shape)"
      ],
      "metadata": {
        "id": "0Y1OoKXdloYZ",
        "outputId": "37325c5a-3533-4279-f464-64725f796885",
        "colab": {
          "base_uri": "https://localhost:8080/"
        }
      },
      "execution_count": 2,
      "outputs": [
        {
          "output_type": "stream",
          "name": "stdout",
          "text": [
            "[[11 12 13 14]\n",
            " [21 22 23 24]\n",
            " [31 32 33 34]]\n",
            "(3, 4)\n"
          ]
        }
      ]
    },
    {
      "cell_type": "code",
      "source": [
        "matrixA"
      ],
      "metadata": {
        "id": "FUtbm4cLnMrS",
        "outputId": "b7d123ad-94dd-4bfb-e661-49bfcf1175a0",
        "colab": {
          "base_uri": "https://localhost:8080/"
        }
      },
      "execution_count": 3,
      "outputs": [
        {
          "output_type": "execute_result",
          "data": {
            "text/plain": [
              "array([[11, 12, 13, 14],\n",
              "       [21, 22, 23, 24],\n",
              "       [31, 32, 33, 34]])"
            ]
          },
          "metadata": {},
          "execution_count": 3
        }
      ]
    },
    {
      "cell_type": "code",
      "source": [
        "print(matrixA[1:3,1:3])"
      ],
      "metadata": {
        "id": "E6lVH-jmndiz",
        "outputId": "a2ed01bf-4c42-41a5-87db-5d71367e0479",
        "colab": {
          "base_uri": "https://localhost:8080/"
        }
      },
      "execution_count": 7,
      "outputs": [
        {
          "output_type": "stream",
          "name": "stdout",
          "text": [
            "[[22 23]\n",
            " [32 33]]\n"
          ]
        }
      ]
    },
    {
      "cell_type": "code",
      "source": [
        "import numpy as np\n",
        "\n",
        "# Create a 4x3 matrix of integers\n",
        "matrix = np.array([[1, 2, 3],\n",
        "                   [4, 5, 6],\n",
        "                   [7, 8, 9],\n",
        "                   [10, 11, 12]])\n",
        "\n",
        "#To see the output, run the code.\n",
        "print(matrix)"
      ],
      "metadata": {
        "id": "B_ci9i11oAQy",
        "outputId": "c2f5172e-b12d-4591-b7dc-12eddf4e7a04",
        "colab": {
          "base_uri": "https://localhost:8080/"
        }
      },
      "execution_count": 10,
      "outputs": [
        {
          "output_type": "stream",
          "name": "stdout",
          "text": [
            "[[ 1  2  3]\n",
            " [ 4  5  6]\n",
            " [ 7  8  9]\n",
            " [10 11 12]]\n"
          ]
        }
      ]
    },
    {
      "cell_type": "code",
      "source": [
        "import numpy as np\n",
        "\n",
        "# Create a 4x3 matrix with random integers between 0 and 9\n",
        "matrixC = np.random.randint(0, 10, size=(4, 3))\n",
        "\n",
        "#To see the output, run the code.\n",
        "print(matrixC)\n",
        "print(matrixC.shape)\n"
      ],
      "metadata": {
        "id": "AknHS-d2oTxZ",
        "outputId": "2cbe1a36-2e97-4676-c7ff-88b56531e154",
        "colab": {
          "base_uri": "https://localhost:8080/"
        }
      },
      "execution_count": 18,
      "outputs": [
        {
          "output_type": "stream",
          "name": "stdout",
          "text": [
            "[[3 3 2]\n",
            " [2 5 1]\n",
            " [7 1 7]\n",
            " [5 0 7]]\n",
            "(4, 3)\n"
          ]
        }
      ]
    },
    {
      "cell_type": "code",
      "source": [
        "print(matrix)\n",
        "col_indices =np.array([0,1,2])\n",
        "row_indices =np.array([1,2])\n",
        "\n",
        "for row,col in zip(row_indices,col_indices):\n",
        "    print(matrix[row,col])\n",
        "\n",
        "print(row_indices)\n",
        "print(col_indices)"
      ],
      "metadata": {
        "id": "63QvCjxIoigJ",
        "outputId": "1953f642-33fd-461a-a384-84b05687fbc0",
        "colab": {
          "base_uri": "https://localhost:8080/"
        }
      },
      "execution_count": 28,
      "outputs": [
        {
          "output_type": "stream",
          "name": "stdout",
          "text": [
            "[[2 7 4]\n",
            " [4 0 8]\n",
            " [2 5 7]\n",
            " [1 0 6]]\n",
            "4\n",
            "5\n",
            "[1 2]\n",
            "[0 1 2]\n"
          ]
        }
      ]
    },
    {
      "cell_type": "code",
      "source": [
        "mask=matrix>7\n",
        "print(mask)"
      ],
      "metadata": {
        "id": "hf2WCNQyqEVr",
        "outputId": "43ac7849-a05e-4f81-8088-a774b9e30e9b",
        "colab": {
          "base_uri": "https://localhost:8080/"
        }
      },
      "execution_count": 29,
      "outputs": [
        {
          "output_type": "stream",
          "name": "stdout",
          "text": [
            "[[False False False]\n",
            " [False False  True]\n",
            " [False False False]\n",
            " [False False False]]\n"
          ]
        }
      ]
    },
    {
      "cell_type": "code",
      "source": [
        "print(matrix[mask])"
      ],
      "metadata": {
        "id": "UhXowK9NqOD0",
        "outputId": "b821b02c-4246-4451-f5b5-54dcf4ec5916",
        "colab": {
          "base_uri": "https://localhost:8080/"
        }
      },
      "execution_count": 30,
      "outputs": [
        {
          "output_type": "stream",
          "name": "stdout",
          "text": [
            "[8]\n"
          ]
        }
      ]
    },
    {
      "cell_type": "code",
      "source": [
        "print(matrix[matrix>7])"
      ],
      "metadata": {
        "id": "xQWQzyaoqSOT",
        "outputId": "d00809b0-9c53-4f5e-c1cf-bb37dc29275d",
        "colab": {
          "base_uri": "https://localhost:8080/"
        }
      },
      "execution_count": 31,
      "outputs": [
        {
          "output_type": "stream",
          "name": "stdout",
          "text": [
            "[8]\n"
          ]
        }
      ]
    },
    {
      "cell_type": "code",
      "source": [
        "print(matrix)"
      ],
      "metadata": {
        "id": "7wEiixjNqWR2",
        "outputId": "fc1cbd1b-37fd-4fcd-df83-23d0c53b974a",
        "colab": {
          "base_uri": "https://localhost:8080/"
        }
      },
      "execution_count": 32,
      "outputs": [
        {
          "output_type": "stream",
          "name": "stdout",
          "text": [
            "[[2 7 4]\n",
            " [4 0 8]\n",
            " [2 5 7]\n",
            " [1 0 6]]\n"
          ]
        }
      ]
    },
    {
      "cell_type": "code",
      "source": [
        "arr=matrix\n",
        "arr[arr % 2 == 0] += 100\n",
        "print(arr)\n",
        "matrix"
      ],
      "metadata": {
        "id": "735zC9YmqdnD",
        "outputId": "2a50784e-b6a9-4e3c-f693-7a9f43091f58",
        "colab": {
          "base_uri": "https://localhost:8080/"
        }
      },
      "execution_count": 67,
      "outputs": [
        {
          "output_type": "stream",
          "name": "stdout",
          "text": [
            "[[102   7 104]\n",
            " [104 100 108]\n",
            " [102   5   7]\n",
            " [  1 100 106]]\n"
          ]
        },
        {
          "output_type": "execute_result",
          "data": {
            "text/plain": [
              "array([[102,   7, 104],\n",
              "       [104, 100, 108],\n",
              "       [102,   5,   7],\n",
              "       [  1, 100, 106]])"
            ]
          },
          "metadata": {},
          "execution_count": 67
        }
      ]
    },
    {
      "cell_type": "code",
      "source": [
        "matrix[2:3, 1:] += 100\n",
        "matrixFilter = matrix[2:3, 1:]\n",
        "print(matrixFilter)"
      ],
      "metadata": {
        "id": "dJ4EUrnXriV8",
        "outputId": "fb6357b0-34a2-49c0-a068-4dbbc1ff7d74",
        "colab": {
          "base_uri": "https://localhost:8080/"
        }
      },
      "execution_count": 75,
      "outputs": [
        {
          "output_type": "stream",
          "name": "stdout",
          "text": [
            "[[105 107]]\n"
          ]
        }
      ]
    },
    {
      "cell_type": "code",
      "source": [
        "# prompt: Suma 100 a los valores que sean mayor a 3 y menor a 9 del array matrix\n",
        "\n",
        "matrix[(matrix > 3) & (matrix < 9)] += 100\n",
        "print(matrix)\n",
        "\n"
      ],
      "metadata": {
        "id": "rdeDInvZsupM",
        "outputId": "41a88155-ff62-468e-bea9-c4f5920b20ee",
        "colab": {
          "base_uri": "https://localhost:8080/"
        }
      },
      "execution_count": 77,
      "outputs": [
        {
          "output_type": "stream",
          "name": "stdout",
          "text": [
            "[[102 107 104]\n",
            " [104 100 108]\n",
            " [102 105 107]\n",
            " [  1 100 106]]\n"
          ]
        }
      ]
    },
    {
      "cell_type": "code",
      "source": [
        "filterone =matrix[(matrix > 3) & (matrix < 9)]\n",
        "matrix[filterone] += 100\n",
        "print(filterone)"
      ],
      "metadata": {
        "id": "8awjTjDBuZqY",
        "outputId": "3bec574e-fc31-4af7-9aad-1d820f6b050d",
        "colab": {
          "base_uri": "https://localhost:8080/"
        }
      },
      "execution_count": 78,
      "outputs": [
        {
          "output_type": "stream",
          "name": "stdout",
          "text": [
            "[]\n"
          ]
        }
      ]
    },
    {
      "cell_type": "code",
      "source": [
        "matrixA1 =np.random.randint(0, 10, size=(2, 2))\n",
        "matrixA2 =np.random.randint(0, 10, size=(2, 2))\n",
        "print(\"matrixA1\")\n",
        "print(matrixA1)\n",
        "print(\"matrixA2\")\n",
        "print(matrixA2)"
      ],
      "metadata": {
        "id": "efysYehwu7vO",
        "outputId": "72630f27-1b95-49a7-8bea-d088f9648d0e",
        "colab": {
          "base_uri": "https://localhost:8080/"
        }
      },
      "execution_count": 85,
      "outputs": [
        {
          "output_type": "stream",
          "name": "stdout",
          "text": [
            "matrixA1\n",
            "[[3 1]\n",
            " [6 1]]\n",
            "matrixA2\n",
            "[[9 0]\n",
            " [9 8]]\n"
          ]
        }
      ]
    },
    {
      "cell_type": "code",
      "source": [
        "print(matrixA1+matrixA2)\n",
        "print(matrixA1-matrixA2)\n",
        "print(matrixA1*matrixA2)\n",
        "print(matrixA1/matrixA2)"
      ],
      "metadata": {
        "id": "XIQfPBddvT_t",
        "outputId": "b9d81de0-a579-47e4-937c-022e230a86be",
        "colab": {
          "base_uri": "https://localhost:8080/"
        }
      },
      "execution_count": 87,
      "outputs": [
        {
          "output_type": "stream",
          "name": "stdout",
          "text": [
            "[[12  1]\n",
            " [15  9]]\n",
            "[[-6  1]\n",
            " [-3 -7]]\n",
            "[[27  0]\n",
            " [54  8]]\n",
            "[[0.33333333        inf]\n",
            " [0.66666667 0.125     ]]\n",
            "[[1.73205081 1.        ]\n",
            " [2.44948974 1.        ]]\n",
            "[[36  8]\n",
            " [63  8]]\n"
          ]
        },
        {
          "output_type": "stream",
          "name": "stderr",
          "text": [
            "<ipython-input-87-8e8dbe35ccad>:4: RuntimeWarning: divide by zero encountered in divide\n",
            "  print(matrixA1/matrixA2)\n"
          ]
        }
      ]
    },
    {
      "cell_type": "code",
      "source": [
        "print(matrixA1)\n",
        "print(np.sqrt(matrixA1))"
      ],
      "metadata": {
        "id": "RIfC_G8hvtT0",
        "outputId": "1e7e8a14-63fa-4b37-b0b6-eafd4b7a077c",
        "colab": {
          "base_uri": "https://localhost:8080/"
        }
      },
      "execution_count": 90,
      "outputs": [
        {
          "output_type": "stream",
          "name": "stdout",
          "text": [
            "[[3 1]\n",
            " [6 1]]\n",
            "[[1.73205081 1.        ]\n",
            " [2.44948974 1.        ]]\n"
          ]
        }
      ]
    },
    {
      "cell_type": "code",
      "source": [
        "matrixC1 =np.random.randint(0, 10, size=(2, 5))\n",
        "print(matrixC1)\n",
        "print(matrixC1.shape)"
      ],
      "metadata": {
        "id": "2iKPMwdhwBEy",
        "outputId": "81ec7b7c-6c31-44de-fed2-1a1bbe7a50a5",
        "colab": {
          "base_uri": "https://localhost:8080/"
        }
      },
      "execution_count": 91,
      "outputs": [
        {
          "output_type": "stream",
          "name": "stdout",
          "text": [
            "[[2 3 9 6 9]\n",
            " [7 7 9 7 3]]\n",
            "(2, 5)\n"
          ]
        }
      ]
    },
    {
      "cell_type": "code",
      "source": [
        "print(np.mean(matrixC1))"
      ],
      "metadata": {
        "id": "z6bdS2ImwKBi",
        "outputId": "96525a3b-5b2e-40f6-e3d9-ce188118d6e0",
        "colab": {
          "base_uri": "https://localhost:8080/"
        }
      },
      "execution_count": 93,
      "outputs": [
        {
          "output_type": "stream",
          "name": "stdout",
          "text": [
            "6.2\n"
          ]
        }
      ]
    },
    {
      "cell_type": "code",
      "source": [
        "print(matrixC1.mean(axis=0))"
      ],
      "metadata": {
        "id": "0bWEzOwVwTWg",
        "outputId": "e26c5916-d1b4-4fb6-c75a-b18301a54e26",
        "colab": {
          "base_uri": "https://localhost:8080/"
        }
      },
      "execution_count": 96,
      "outputs": [
        {
          "output_type": "stream",
          "name": "stdout",
          "text": [
            "[4.5 5.  9.  6.5 6. ]\n"
          ]
        }
      ]
    },
    {
      "cell_type": "code",
      "source": [
        "print(np.median(matrixC1))"
      ],
      "metadata": {
        "id": "AguU9saVw4i-",
        "outputId": "1c11a403-1b0e-4a47-bc7d-a85002637eed",
        "colab": {
          "base_uri": "https://localhost:8080/"
        }
      },
      "execution_count": 97,
      "outputs": [
        {
          "output_type": "stream",
          "name": "stdout",
          "text": [
            "7.0\n"
          ]
        }
      ]
    },
    {
      "cell_type": "code",
      "source": [
        "print(np.std(matrixC1))"
      ],
      "metadata": {
        "id": "1gVAhcJlw_PO",
        "outputId": "c46c2ad7-02b8-46d4-cadf-0ac2724f5b94",
        "colab": {
          "base_uri": "https://localhost:8080/"
        }
      },
      "execution_count": 98,
      "outputs": [
        {
          "output_type": "stream",
          "name": "stdout",
          "text": [
            "2.5219040425836985\n"
          ]
        }
      ]
    },
    {
      "cell_type": "code",
      "source": [
        "print(np.var(matrixC1))"
      ],
      "metadata": {
        "id": "p6G9oMFfxC7m",
        "outputId": "a2214737-8cca-4e21-a998-e56c4b7fa4a5",
        "colab": {
          "base_uri": "https://localhost:8080/"
        }
      },
      "execution_count": 99,
      "outputs": [
        {
          "output_type": "stream",
          "name": "stdout",
          "text": [
            "6.36\n"
          ]
        }
      ]
    },
    {
      "cell_type": "code",
      "source": [
        "print(np.min(matrixC1))\n",
        "print(np.max(matrixC1))"
      ],
      "metadata": {
        "id": "EErRIssYxF-m",
        "outputId": "2ccd985c-a5ff-46e7-8c8c-488bcc2d8ca6",
        "colab": {
          "base_uri": "https://localhost:8080/"
        }
      },
      "execution_count": 100,
      "outputs": [
        {
          "output_type": "stream",
          "name": "stdout",
          "text": [
            "2\n",
            "9\n"
          ]
        }
      ]
    },
    {
      "cell_type": "code",
      "source": [
        "print(matrixC1)\n",
        "print(np.argmin(matrixC1))\n",
        "print(np.argmax(matrixC1))"
      ],
      "metadata": {
        "id": "An4U5XV5xK_-",
        "outputId": "14e20e85-9366-49a8-96b0-7ab5d9f5b69e",
        "colab": {
          "base_uri": "https://localhost:8080/"
        }
      },
      "execution_count": 102,
      "outputs": [
        {
          "output_type": "stream",
          "name": "stdout",
          "text": [
            "[[2 3 9 6 9]\n",
            " [7 7 9 7 3]]\n",
            "0\n",
            "2\n"
          ]
        }
      ]
    },
    {
      "cell_type": "code",
      "source": [
        "print(np.sort(matrixC1))"
      ],
      "metadata": {
        "id": "yfnCWegCxox7",
        "outputId": "5cd42e40-8b67-4129-8962-0fbb1abd711b",
        "colab": {
          "base_uri": "https://localhost:8080/"
        }
      },
      "execution_count": 103,
      "outputs": [
        {
          "output_type": "stream",
          "name": "stdout",
          "text": [
            "[[2 3 6 9 9]\n",
            " [3 7 7 7 9]]\n"
          ]
        }
      ]
    },
    {
      "cell_type": "code",
      "source": [
        "print(np.sort(matrixC1,axis=0))"
      ],
      "metadata": {
        "id": "dfisFqYWx1sz",
        "outputId": "4e2024e7-83c7-4e7e-adc2-a5e2c7f4a23c",
        "colab": {
          "base_uri": "https://localhost:8080/"
        }
      },
      "execution_count": 104,
      "outputs": [
        {
          "output_type": "stream",
          "name": "stdout",
          "text": [
            "[[2 3 9 6 3]\n",
            " [7 7 9 7 9]]\n"
          ]
        }
      ]
    },
    {
      "cell_type": "code",
      "source": [
        "start = np.zeros((4,3))\n",
        "print(start)"
      ],
      "metadata": {
        "id": "g2FzxRVxyGob",
        "outputId": "34ac4f60-f8f4-48fc-a151-19441180609b",
        "colab": {
          "base_uri": "https://localhost:8080/"
        }
      },
      "execution_count": 144,
      "outputs": [
        {
          "output_type": "stream",
          "name": "stdout",
          "text": [
            "[[0. 0. 0.]\n",
            " [0. 0. 0.]\n",
            " [0. 0. 0.]\n",
            " [0. 0. 0.]]\n"
          ]
        }
      ]
    },
    {
      "cell_type": "code",
      "source": [
        "add_rows = np.array([1, 2, 3])\n",
        "print(add_rows.shape)"
      ],
      "metadata": {
        "id": "Dz8N5uwwyOsW",
        "outputId": "09b90298-3eb1-4e9c-c1f0-467ca86ee4d1",
        "colab": {
          "base_uri": "https://localhost:8080/"
        }
      },
      "execution_count": 140,
      "outputs": [
        {
          "output_type": "stream",
          "name": "stdout",
          "text": [
            "(3,)\n"
          ]
        }
      ]
    },
    {
      "cell_type": "code",
      "source": [
        "y=start+add_rows\n",
        "print(y)"
      ],
      "metadata": {
        "id": "v1VIyC4-yZ6u",
        "outputId": "df8a6e8b-4481-406a-ed57-dd626eb4445d",
        "colab": {
          "base_uri": "https://localhost:8080/"
        }
      },
      "execution_count": 141,
      "outputs": [
        {
          "output_type": "stream",
          "name": "stdout",
          "text": [
            "[[1. 2. 3.]\n",
            " [1. 2. 3.]\n",
            " [1. 2. 3.]\n",
            " [1. 2. 3.]]\n"
          ]
        }
      ]
    },
    {
      "cell_type": "code",
      "source": [
        "print(start)"
      ],
      "metadata": {
        "id": "GKXQDZjuyvPJ",
        "outputId": "0e94fa17-0984-4772-dc4d-d5ed42d9b8b9",
        "colab": {
          "base_uri": "https://localhost:8080/"
        }
      },
      "execution_count": 145,
      "outputs": [
        {
          "output_type": "stream",
          "name": "stdout",
          "text": [
            "[[0. 0. 0.]\n",
            " [0. 0. 0.]\n",
            " [0. 0. 0.]\n",
            " [0. 0. 0.]]\n"
          ]
        }
      ]
    },
    {
      "cell_type": "code",
      "source": [
        "col_rowa = np.array([[1,2,3,4]])\n",
        "col_rowa = col_rowa.T\n",
        "print(col_rowa)"
      ],
      "metadata": {
        "id": "J4r83kPxyyvp",
        "outputId": "72a82679-3f25-46af-8f45-18afe7f28261",
        "colab": {
          "base_uri": "https://localhost:8080/"
        }
      },
      "execution_count": 137,
      "outputs": [
        {
          "output_type": "stream",
          "name": "stdout",
          "text": [
            "[[1]\n",
            " [2]\n",
            " [3]\n",
            " [4]]\n"
          ]
        }
      ]
    },
    {
      "cell_type": "code",
      "source": [
        "fil_rows = np.array([[1,2,3]])\n",
        "print(fil_rows)"
      ],
      "metadata": {
        "id": "Ja4_bCvdzAzA",
        "outputId": "976ecaa6-500b-4b9f-d70d-393d28337f1d",
        "colab": {
          "base_uri": "https://localhost:8080/"
        }
      },
      "execution_count": 132,
      "outputs": [
        {
          "output_type": "stream",
          "name": "stdout",
          "text": [
            "[[1 2 3]]\n"
          ]
        }
      ]
    },
    {
      "cell_type": "code",
      "source": [
        "start += col_rowa\n",
        "print(start)"
      ],
      "metadata": {
        "id": "4MQTsiRTztlj",
        "outputId": "9985f3bb-1f34-495f-be6d-2e3d70513a6b",
        "colab": {
          "base_uri": "https://localhost:8080/"
        }
      },
      "execution_count": 143,
      "outputs": [
        {
          "output_type": "stream",
          "name": "stdout",
          "text": [
            "[[1. 1. 1.]\n",
            " [2. 2. 2.]\n",
            " [3. 3. 3.]\n",
            " [4. 4. 4.]]\n"
          ]
        }
      ]
    },
    {
      "cell_type": "code",
      "source": [
        "start += fil_rows\n",
        "print(start)"
      ],
      "metadata": {
        "id": "mXjUCPc20Y6r",
        "outputId": "095c5b9a-0f7b-40ca-dead-45e24cbc118a",
        "colab": {
          "base_uri": "https://localhost:8080/"
        }
      },
      "execution_count": 146,
      "outputs": [
        {
          "output_type": "stream",
          "name": "stdout",
          "text": [
            "[[1. 2. 3.]\n",
            " [1. 2. 3.]\n",
            " [1. 2. 3.]\n",
            " [1. 2. 3.]]\n"
          ]
        }
      ]
    },
    {
      "cell_type": "code",
      "source": [
        "tmp1 =np.array([[1,1],[2,2]])\n",
        "print(tmp1)\n",
        "\n"
      ],
      "metadata": {
        "id": "xfnATzUd1jK4",
        "outputId": "5d36518e-1a05-4fd8-aef6-5b2f60a3b255",
        "colab": {
          "base_uri": "https://localhost:8080/"
        }
      },
      "execution_count": 149,
      "outputs": [
        {
          "output_type": "stream",
          "name": "stdout",
          "text": [
            "[[1 1]\n",
            " [2 2]]\n"
          ]
        }
      ]
    },
    {
      "cell_type": "code",
      "source": [
        "print(np.dot(tmp1,tmp1))"
      ],
      "metadata": {
        "id": "DukSVBHs17d3",
        "outputId": "efe2b2eb-4a68-4b30-fd82-9c063b25a46c",
        "colab": {
          "base_uri": "https://localhost:8080/"
        }
      },
      "execution_count": 150,
      "outputs": [
        {
          "output_type": "stream",
          "name": "stdout",
          "text": [
            "[[3 3]\n",
            " [6 6]]\n"
          ]
        }
      ]
    },
    {
      "cell_type": "code",
      "source": [
        "# prompt: Crea dos matrices que sean enteros, que el valor minimo sea 2 y el maximo 50\n",
        "\n",
        "import numpy as np\n",
        "\n",
        "# Create a matrix with random integers between 2 and 50 (inclusive)\n",
        "matrix1 = np.random.randint(2, 51, size=(2, 2))  # Adjust size as needed\n",
        "\n",
        "# Create another matrix with random integers between 2 and 50 (inclusive)\n",
        "matrix2 = np.random.randint(2, 51, size=(2, 2))  # Adjust size as needed\n",
        "\n",
        "print(\"Matrix 1:\")\n",
        "print(matrix1)\n",
        "print(\"\\nMatrix 2:\")\n",
        "matrix2"
      ],
      "metadata": {
        "id": "Sr8ckMNp2Lc2",
        "outputId": "7aedc9ea-ea64-4632-8df1-bb5b487336c3",
        "colab": {
          "base_uri": "https://localhost:8080/"
        }
      },
      "execution_count": 152,
      "outputs": [
        {
          "output_type": "stream",
          "name": "stdout",
          "text": [
            "Matrix 1:\n",
            "[[41 34]\n",
            " [47 23]]\n",
            "\n",
            "Matrix 2:\n"
          ]
        },
        {
          "output_type": "execute_result",
          "data": {
            "text/plain": [
              "array([[30, 22],\n",
              "       [45, 14]])"
            ]
          },
          "metadata": {},
          "execution_count": 152
        }
      ]
    },
    {
      "cell_type": "code",
      "source": [
        "np.vstack((matrix1,matrix2))"
      ],
      "metadata": {
        "id": "PmAnuPWo2lQt",
        "outputId": "18e865af-36b2-42ef-a321-5331db090cb0",
        "colab": {
          "base_uri": "https://localhost:8080/"
        }
      },
      "execution_count": 153,
      "outputs": [
        {
          "output_type": "execute_result",
          "data": {
            "text/plain": [
              "array([[41, 34],\n",
              "       [47, 23],\n",
              "       [30, 22],\n",
              "       [45, 14]])"
            ]
          },
          "metadata": {},
          "execution_count": 153
        }
      ]
    },
    {
      "cell_type": "code",
      "source": [
        "np.hstack((matrix1,matrix2))"
      ],
      "metadata": {
        "id": "SH6EqXEs2w2i",
        "outputId": "b2d1e35e-b590-4a8f-878c-11c5e7afc116",
        "colab": {
          "base_uri": "https://localhost:8080/"
        }
      },
      "execution_count": 154,
      "outputs": [
        {
          "output_type": "execute_result",
          "data": {
            "text/plain": [
              "array([[41, 34, 30, 22],\n",
              "       [47, 23, 45, 14]])"
            ]
          },
          "metadata": {},
          "execution_count": 154
        }
      ]
    }
  ],
  "metadata": {
    "colab": {
      "name": "Te damos la bienvenida a Colaboratory",
      "provenance": [],
      "include_colab_link": true
    },
    "kernelspec": {
      "display_name": "Python 3",
      "name": "python3"
    }
  },
  "nbformat": 4,
  "nbformat_minor": 0
}